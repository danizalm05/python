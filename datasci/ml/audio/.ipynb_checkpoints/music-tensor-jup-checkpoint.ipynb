{
 "cells": [
  {
   "cell_type": "markdown",
   "metadata": {},
   "source": [
    "# Valerio Velardo - The Sound of AI\n",
    "\n",
    "<a href=\"https://www.youtube.com/watch?v=JdXxaZcQer8&list=PL-wATfeyAMNrtbkCNsLcpoAyBBRJZVlnf&index=9\" target=\"_parent\"><img src=\"https://www.loadette.com/mediaUpload/il_fullxfull.1484843344_4vgj.jpg\" alt=\"koko\"/></a>\n",
    "\n",
    "A simple neural network (multilayer perceptron) using TensorFlow 2\n",
    "and Keras and train it to perform the arithmetic sum.\n",
    "https://www.youtube.com/watch?v=JdXxaZcQer8&list=PL-wATfeyAMNrtbkCNsLcpoAyBBRJZVlnf&index=9\n",
    "https://github.com/musikalkemist/DeepLearningForAudioWithPython/blob/master/9-%20How%20to%20imlement%20a%20simple%20neural%20network%20with%20TensorFlow/code/mlp.py\n"
   ]
  },
  {
   "cell_type": "code",
   "execution_count": 1,
   "metadata": {},
   "outputs": [
    {
     "name": "stderr",
     "output_type": "stream",
     "text": [
      "C:\\Users\\gilfm\\Miniconda3\\envs\\tensorflow\\lib\\site-packages\\tensorflow\\python\\framework\\dtypes.py:516: FutureWarning: Passing (type, 1) or '1type' as a synonym of type is deprecated; in a future version of numpy, it will be understood as (type, (1,)) / '(1,)type'.\n",
      "  _np_qint8 = np.dtype([(\"qint8\", np.int8, 1)])\n",
      "C:\\Users\\gilfm\\Miniconda3\\envs\\tensorflow\\lib\\site-packages\\tensorflow\\python\\framework\\dtypes.py:517: FutureWarning: Passing (type, 1) or '1type' as a synonym of type is deprecated; in a future version of numpy, it will be understood as (type, (1,)) / '(1,)type'.\n",
      "  _np_quint8 = np.dtype([(\"quint8\", np.uint8, 1)])\n",
      "C:\\Users\\gilfm\\Miniconda3\\envs\\tensorflow\\lib\\site-packages\\tensorflow\\python\\framework\\dtypes.py:518: FutureWarning: Passing (type, 1) or '1type' as a synonym of type is deprecated; in a future version of numpy, it will be understood as (type, (1,)) / '(1,)type'.\n",
      "  _np_qint16 = np.dtype([(\"qint16\", np.int16, 1)])\n",
      "C:\\Users\\gilfm\\Miniconda3\\envs\\tensorflow\\lib\\site-packages\\tensorflow\\python\\framework\\dtypes.py:519: FutureWarning: Passing (type, 1) or '1type' as a synonym of type is deprecated; in a future version of numpy, it will be understood as (type, (1,)) / '(1,)type'.\n",
      "  _np_quint16 = np.dtype([(\"quint16\", np.uint16, 1)])\n",
      "C:\\Users\\gilfm\\Miniconda3\\envs\\tensorflow\\lib\\site-packages\\tensorflow\\python\\framework\\dtypes.py:520: FutureWarning: Passing (type, 1) or '1type' as a synonym of type is deprecated; in a future version of numpy, it will be understood as (type, (1,)) / '(1,)type'.\n",
      "  _np_qint32 = np.dtype([(\"qint32\", np.int32, 1)])\n",
      "C:\\Users\\gilfm\\Miniconda3\\envs\\tensorflow\\lib\\site-packages\\tensorflow\\python\\framework\\dtypes.py:525: FutureWarning: Passing (type, 1) or '1type' as a synonym of type is deprecated; in a future version of numpy, it will be understood as (type, (1,)) / '(1,)type'.\n",
      "  np_resource = np.dtype([(\"resource\", np.ubyte, 1)])\n",
      "C:\\Users\\gilfm\\Miniconda3\\envs\\tensorflow\\lib\\site-packages\\tensorboard\\compat\\tensorflow_stub\\dtypes.py:541: FutureWarning: Passing (type, 1) or '1type' as a synonym of type is deprecated; in a future version of numpy, it will be understood as (type, (1,)) / '(1,)type'.\n",
      "  _np_qint8 = np.dtype([(\"qint8\", np.int8, 1)])\n",
      "C:\\Users\\gilfm\\Miniconda3\\envs\\tensorflow\\lib\\site-packages\\tensorboard\\compat\\tensorflow_stub\\dtypes.py:542: FutureWarning: Passing (type, 1) or '1type' as a synonym of type is deprecated; in a future version of numpy, it will be understood as (type, (1,)) / '(1,)type'.\n",
      "  _np_quint8 = np.dtype([(\"quint8\", np.uint8, 1)])\n",
      "C:\\Users\\gilfm\\Miniconda3\\envs\\tensorflow\\lib\\site-packages\\tensorboard\\compat\\tensorflow_stub\\dtypes.py:543: FutureWarning: Passing (type, 1) or '1type' as a synonym of type is deprecated; in a future version of numpy, it will be understood as (type, (1,)) / '(1,)type'.\n",
      "  _np_qint16 = np.dtype([(\"qint16\", np.int16, 1)])\n",
      "C:\\Users\\gilfm\\Miniconda3\\envs\\tensorflow\\lib\\site-packages\\tensorboard\\compat\\tensorflow_stub\\dtypes.py:544: FutureWarning: Passing (type, 1) or '1type' as a synonym of type is deprecated; in a future version of numpy, it will be understood as (type, (1,)) / '(1,)type'.\n",
      "  _np_quint16 = np.dtype([(\"quint16\", np.uint16, 1)])\n",
      "C:\\Users\\gilfm\\Miniconda3\\envs\\tensorflow\\lib\\site-packages\\tensorboard\\compat\\tensorflow_stub\\dtypes.py:545: FutureWarning: Passing (type, 1) or '1type' as a synonym of type is deprecated; in a future version of numpy, it will be understood as (type, (1,)) / '(1,)type'.\n",
      "  _np_qint32 = np.dtype([(\"qint32\", np.int32, 1)])\n",
      "C:\\Users\\gilfm\\Miniconda3\\envs\\tensorflow\\lib\\site-packages\\tensorboard\\compat\\tensorflow_stub\\dtypes.py:550: FutureWarning: Passing (type, 1) or '1type' as a synonym of type is deprecated; in a future version of numpy, it will be understood as (type, (1,)) / '(1,)type'.\n",
      "  np_resource = np.dtype([(\"resource\", np.ubyte, 1)])\n"
     ]
    }
   ],
   "source": [
    "import tensorflow as tf"
   ]
  },
  {
   "cell_type": "code",
   "execution_count": 2,
   "metadata": {},
   "outputs": [],
   "source": [
    "from sklearn.model_selection import train_test_split\n",
    "import numpy as np\n",
    "from random import random"
   ]
  },
  {
   "cell_type": "code",
   "execution_count": null,
   "metadata": {},
   "outputs": [],
   "source": [
    " "
   ]
  },
  {
   "cell_type": "code",
   "execution_count": 3,
   "metadata": {},
   "outputs": [],
   "source": [
    "def generate_dataset(num_samples, test_size=0.33):\n",
    "    \"\"\"Generates train/test data for sum operation\n",
    "      :param num_samples (int): Num of total samples in dataset\n",
    "      :param test_size (int): Ratio of num_samples used as test set\n",
    "        \"\"\"\n",
    "    # build inputs/targets for sum operation: y[0][0] = x[0][0] + x[0][1]\n",
    "    x = np.array([[random() / 2 for _ in range(2)]\n",
    "                  for _ in range(num_samples)])\n",
    "\n",
    "    y = np.array([[i[0] + i[1]] for i in x])\n",
    "\n",
    "    x_train, x_test, y_train, y_test = \\\n",
    "        train_test_split(x, y, test_size=test_size)\n",
    "    return x_train, x_test, y_train, y_test "
   ]
  },
  {
   "cell_type": "code",
   "execution_count": 5,
   "metadata": {},
   "outputs": [],
   "source": [
    "ratio = 0.3  # Ratio of samples used as test set\n",
    "samplesSize = 5000  # num of  samples\n",
    "\n",
    "x_train, x_test, y_train, y_test = \\\n",
    "        generate_dataset(samplesSize, ratio)"
   ]
  },
  {
   "cell_type": "code",
   "execution_count": 12,
   "metadata": {},
   "outputs": [
    {
     "name": "stdout",
     "output_type": "stream",
     "text": [
      "0.49607925056836777   +   0.2623535874166735 =  [0.75843284]\n"
     ]
    }
   ],
   "source": [
    " print(  x_train[1][0],\"  +  \", x_train[1][1],\"= \" ,y_train[1])\n",
    "    "
   ]
  },
  {
   "cell_type": "markdown",
   "metadata": {},
   "source": [
    " "
   ]
  },
  {
   "cell_type": "code",
   "execution_count": 14,
   "metadata": {},
   "outputs": [],
   "source": [
    "# build model with 3 layers: 2 -> 5 -> 1\n",
    "    model = tf.keras.models.Sequential([\n",
    "        tf.keras.layers.Dense(5, input_dim=2, activation=\"sigmoid\"),\n",
    "        tf.keras.layers.Dense(1, activation=\"sigmoid\")\n",
    "    ])"
   ]
  },
  {
   "cell_type": "markdown",
   "metadata": {},
   "source": [
    " "
   ]
  },
  {
   "cell_type": "code",
   "execution_count": 15,
   "metadata": {},
   "outputs": [],
   "source": [
    "  # choose optimiser  (SGD stochastic gradient descent)\n",
    "    optimizer = tf.keras.optimizers.SGD(lr=0.1)  # lr = learning_rate"
   ]
  },
  {
   "cell_type": "markdown",
   "metadata": {},
   "source": [
    " "
   ]
  },
  {
   "cell_type": "code",
   "execution_count": 16,
   "metadata": {},
   "outputs": [],
   "source": [
    "  # compile model\n",
    "    model.compile(optimizer=optimizer, loss='mse')  # MSE mean squared error"
   ]
  },
  {
   "cell_type": "code",
   "execution_count": 17,
   "metadata": {},
   "outputs": [
    {
     "name": "stdout",
     "output_type": "stream",
     "text": [
      "Train on 3500 samples\n",
      "Epoch 1/100\n",
      "3500/3500 [==============================] - 1s 146us/sample - loss: 0.0489\n",
      "Epoch 2/100\n",
      "3500/3500 [==============================] - 0s 59us/sample - loss: 0.0444\n",
      "Epoch 3/100\n",
      "3500/3500 [==============================] - 0s 58us/sample - loss: 0.0441\n",
      "Epoch 4/100\n",
      "3500/3500 [==============================] - 0s 56us/sample - loss: 0.0437\n",
      "Epoch 5/100\n",
      "3500/3500 [==============================] - 0s 72us/sample - loss: 0.0434\n",
      "Epoch 6/100\n",
      "3500/3500 [==============================] - 0s 53us/sample - loss: 0.0431\n",
      "Epoch 7/100\n",
      "3500/3500 [==============================] - 0s 54us/sample - loss: 0.0427\n",
      "Epoch 8/100\n",
      "3500/3500 [==============================] - 0s 56us/sample - loss: 0.0424\n",
      "Epoch 9/100\n",
      "3500/3500 [==============================] - 0s 58us/sample - loss: 0.0421\n",
      "Epoch 10/100\n",
      "3500/3500 [==============================] - 0s 53us/sample - loss: 0.0417\n",
      "Epoch 11/100\n",
      "3500/3500 [==============================] - 0s 55us/sample - loss: 0.0414\n",
      "Epoch 12/100\n",
      "3500/3500 [==============================] - 0s 57us/sample - loss: 0.0411\n",
      "Epoch 13/100\n",
      "3500/3500 [==============================] - 0s 62us/sample - loss: 0.0407\n",
      "Epoch 14/100\n",
      "3500/3500 [==============================] - 0s 57us/sample - loss: 0.0404\n",
      "Epoch 15/100\n",
      "3500/3500 [==============================] - 0s 58us/sample - loss: 0.0400\n",
      "Epoch 16/100\n",
      "3500/3500 [==============================] - 0s 50us/sample - loss: 0.0396\n",
      "Epoch 17/100\n",
      "3500/3500 [==============================] - 0s 52us/sample - loss: 0.0393\n",
      "Epoch 18/100\n",
      "3500/3500 [==============================] - 0s 56us/sample - loss: 0.0389\n",
      "Epoch 19/100\n",
      "3500/3500 [==============================] - 0s 57us/sample - loss: 0.0385\n",
      "Epoch 20/100\n",
      "3500/3500 [==============================] - 0s 58us/sample - loss: 0.0380\n",
      "Epoch 21/100\n",
      "3500/3500 [==============================] - 0s 69us/sample - loss: 0.0376\n",
      "Epoch 22/100\n",
      "3500/3500 [==============================] - 0s 64us/sample - loss: 0.0371\n",
      "Epoch 23/100\n",
      "3500/3500 [==============================] - 0s 54us/sample - loss: 0.0366\n",
      "Epoch 24/100\n",
      "3500/3500 [==============================] - 0s 56us/sample - loss: 0.0361\n",
      "Epoch 25/100\n",
      "3500/3500 [==============================] - 0s 73us/sample - loss: 0.0355\n",
      "Epoch 26/100\n",
      "3500/3500 [==============================] - 0s 55us/sample - loss: 0.0350\n",
      "Epoch 27/100\n",
      "3500/3500 [==============================] - 0s 52us/sample - loss: 0.0344\n",
      "Epoch 28/100\n",
      "3500/3500 [==============================] - 0s 58us/sample - loss: 0.0338\n",
      "Epoch 29/100\n",
      "3500/3500 [==============================] - 0s 67us/sample - loss: 0.0332\n",
      "Epoch 30/100\n",
      "3500/3500 [==============================] - 0s 56us/sample - loss: 0.0325\n",
      "Epoch 31/100\n",
      "3500/3500 [==============================] - 0s 54us/sample - loss: 0.0318\n",
      "Epoch 32/100\n",
      "3500/3500 [==============================] - 0s 54us/sample - loss: 0.0311\n",
      "Epoch 33/100\n",
      "3500/3500 [==============================] - 0s 57us/sample - loss: 0.0304\n",
      "Epoch 34/100\n",
      "3500/3500 [==============================] - 0s 65us/sample - loss: 0.0296\n",
      "Epoch 35/100\n",
      "3500/3500 [==============================] - 0s 63us/sample - loss: 0.0289\n",
      "Epoch 36/100\n",
      "3500/3500 [==============================] - 0s 54us/sample - loss: 0.0281\n",
      "Epoch 37/100\n",
      "3500/3500 [==============================] - 0s 80us/sample - loss: 0.0273\n",
      "Epoch 38/100\n",
      "3500/3500 [==============================] - 0s 55us/sample - loss: 0.0264\n",
      "Epoch 39/100\n",
      "3500/3500 [==============================] - 0s 54us/sample - loss: 0.0256\n",
      "Epoch 40/100\n",
      "3500/3500 [==============================] - 0s 55us/sample - loss: 0.0247\n",
      "Epoch 41/100\n",
      "3500/3500 [==============================] - 0s 84us/sample - loss: 0.0238\n",
      "Epoch 42/100\n",
      "3500/3500 [==============================] - 0s 90us/sample - loss: 0.0230\n",
      "Epoch 43/100\n",
      "3500/3500 [==============================] - 0s 93us/sample - loss: 0.0221\n",
      "Epoch 44/100\n",
      "3500/3500 [==============================] - 0s 65us/sample - loss: 0.0212\n",
      "Epoch 45/100\n",
      "3500/3500 [==============================] - 0s 88us/sample - loss: 0.0203\n",
      "Epoch 46/100\n",
      "3500/3500 [==============================] - 0s 49us/sample - loss: 0.0194\n",
      "Epoch 47/100\n",
      "3500/3500 [==============================] - ETA: 0s - loss: 0.018 - 0s 51us/sample - loss: 0.0186\n",
      "Epoch 48/100\n",
      "3500/3500 [==============================] - 0s 52us/sample - loss: 0.0177\n",
      "Epoch 49/100\n",
      "3500/3500 [==============================] - 0s 55us/sample - loss: 0.0168\n",
      "Epoch 50/100\n",
      "3500/3500 [==============================] - 0s 52us/sample - loss: 0.0160\n",
      "Epoch 51/100\n",
      "3500/3500 [==============================] - 0s 53us/sample - loss: 0.0152\n",
      "Epoch 52/100\n",
      "3500/3500 [==============================] - 0s 82us/sample - loss: 0.0144\n",
      "Epoch 53/100\n",
      "3500/3500 [==============================] - 0s 114us/sample - loss: 0.0136\n",
      "Epoch 54/100\n",
      "3500/3500 [==============================] - 0s 61us/sample - loss: 0.0128\n",
      "Epoch 55/100\n",
      "3500/3500 [==============================] - 0s 53us/sample - loss: 0.0121\n",
      "Epoch 56/100\n",
      "3500/3500 [==============================] - 0s 70us/sample - loss: 0.0114\n",
      "Epoch 57/100\n",
      "3500/3500 [==============================] - 0s 81us/sample - loss: 0.0107\n",
      "Epoch 58/100\n",
      "3500/3500 [==============================] - 0s 75us/sample - loss: 0.0101\n",
      "Epoch 59/100\n",
      "3500/3500 [==============================] - 0s 60us/sample - loss: 0.0095\n",
      "Epoch 60/100\n",
      "3500/3500 [==============================] - 0s 64us/sample - loss: 0.0089\n",
      "Epoch 61/100\n",
      "3500/3500 [==============================] - 0s 55us/sample - loss: 0.0083\n",
      "Epoch 62/100\n",
      "3500/3500 [==============================] - 0s 75us/sample - loss: 0.0078\n",
      "Epoch 63/100\n",
      "3500/3500 [==============================] - 0s 51us/sample - loss: 0.0073\n",
      "Epoch 64/100\n",
      "3500/3500 [==============================] - 0s 52us/sample - loss: 0.0068\n",
      "Epoch 65/100\n",
      "3500/3500 [==============================] - 0s 53us/sample - loss: 0.0064\n",
      "Epoch 66/100\n",
      "3500/3500 [==============================] - 0s 63us/sample - loss: 0.0060\n",
      "Epoch 67/100\n",
      "3500/3500 [==============================] - 0s 55us/sample - loss: 0.0056\n",
      "Epoch 68/100\n",
      "3500/3500 [==============================] - 0s 56us/sample - loss: 0.0052\n",
      "Epoch 69/100\n",
      "3500/3500 [==============================] - 0s 56us/sample - loss: 0.0049\n",
      "Epoch 70/100\n",
      "3500/3500 [==============================] - 0s 53us/sample - loss: 0.0045\n",
      "Epoch 71/100\n",
      "3500/3500 [==============================] - 0s 57us/sample - loss: 0.0042\n",
      "Epoch 72/100\n",
      "3500/3500 [==============================] - 0s 56us/sample - loss: 0.0040\n",
      "Epoch 73/100\n",
      "3500/3500 [==============================] - 0s 51us/sample - loss: 0.0037\n",
      "Epoch 74/100\n",
      "3500/3500 [==============================] - 0s 81us/sample - loss: 0.0035\n",
      "Epoch 75/100\n",
      "3500/3500 [==============================] - 0s 60us/sample - loss: 0.0032\n",
      "Epoch 76/100\n",
      "3500/3500 [==============================] - 0s 72us/sample - loss: 0.0030\n",
      "Epoch 77/100\n",
      "3500/3500 [==============================] - 0s 54us/sample - loss: 0.0028\n",
      "Epoch 78/100\n",
      "3500/3500 [==============================] - 0s 68us/sample - loss: 0.0026\n",
      "Epoch 79/100\n",
      "3500/3500 [==============================] - 0s 59us/sample - loss: 0.0025\n",
      "Epoch 80/100\n",
      "3500/3500 [==============================] - 0s 58us/sample - loss: 0.0023\n",
      "Epoch 81/100\n",
      "3500/3500 [==============================] - 0s 64us/sample - loss: 0.0022\n",
      "Epoch 82/100\n",
      "3500/3500 [==============================] - 0s 56us/sample - loss: 0.0020\n",
      "Epoch 83/100\n",
      "3500/3500 [==============================] - 0s 54us/sample - loss: 0.0019\n",
      "Epoch 84/100\n",
      "3500/3500 [==============================] - 0s 54us/sample - loss: 0.0018\n",
      "Epoch 85/100\n",
      "3500/3500 [==============================] - 0s 53us/sample - loss: 0.0017\n",
      "Epoch 86/100\n",
      "3500/3500 [==============================] - 0s 68us/sample - loss: 0.0016\n",
      "Epoch 87/100\n",
      "3500/3500 [==============================] - 0s 78us/sample - loss: 0.0015\n",
      "Epoch 88/100\n",
      "3500/3500 [==============================] - 0s 63us/sample - loss: 0.0014\n",
      "Epoch 89/100\n",
      "3500/3500 [==============================] - 0s 67us/sample - loss: 0.0013\n",
      "Epoch 90/100\n",
      "3500/3500 [==============================] - 0s 57us/sample - loss: 0.0013\n",
      "Epoch 91/100\n",
      "3500/3500 [==============================] - 0s 55us/sample - loss: 0.0012\n",
      "Epoch 92/100\n",
      "3500/3500 [==============================] - 0s 54us/sample - loss: 0.0011\n",
      "Epoch 93/100\n"
     ]
    },
    {
     "name": "stdout",
     "output_type": "stream",
     "text": [
      "3500/3500 [==============================] - 0s 55us/sample - loss: 0.0011\n",
      "Epoch 94/100\n",
      "3500/3500 [==============================] - 0s 49us/sample - loss: 0.0010\n",
      "Epoch 95/100\n",
      "3500/3500 [==============================] - 0s 58us/sample - loss: 9.7212e-04\n",
      "Epoch 96/100\n",
      "3500/3500 [==============================] - 0s 54us/sample - loss: 9.2653e-04\n",
      "Epoch 97/100\n",
      "3500/3500 [==============================] - 0s 56us/sample - loss: 8.8480e-04\n",
      "Epoch 98/100\n",
      "3500/3500 [==============================] - 0s 63us/sample - loss: 8.4576e-04\n",
      "Epoch 99/100\n",
      "3500/3500 [==============================] - 0s 65us/sample - loss: 8.0997e-04\n",
      "Epoch 100/100\n",
      "3500/3500 [==============================] - 0s 52us/sample - loss: 7.7678e-04\n"
     ]
    },
    {
     "data": {
      "text/plain": [
       "<tensorflow.python.keras.callbacks.History at 0x1c9d097ed30>"
      ]
     },
     "execution_count": 17,
     "metadata": {},
     "output_type": "execute_result"
    }
   ],
   "source": [
    "# train model\n",
    "model.fit(x_train, y_train, epochs=100)"
   ]
  },
  {
   "cell_type": "code",
   "execution_count": 18,
   "metadata": {},
   "outputs": [
    {
     "name": "stdout",
     "output_type": "stream",
     "text": [
      "\n",
      "Evaluation on the test set:\n",
      "1500/1500 - 0s - loss: 6.9506e-04\n"
     ]
    },
    {
     "data": {
      "text/plain": [
       "0.0006950569364707917"
      ]
     },
     "execution_count": 18,
     "metadata": {},
     "output_type": "execute_result"
    }
   ],
   "source": [
    "  # evaluate model on test set\n",
    "    print(\"\\nEvaluation on the test set:\")\n",
    "    model.evaluate(x_test, y_test, verbose=2)"
   ]
  },
  {
   "cell_type": "code",
   "execution_count": 19,
   "metadata": {},
   "outputs": [],
   "source": [
    "  # get predictions\n",
    "    data = np.array([[0.1, 0.2], [0.2, 0.2]])\n",
    "    predictions = model.predict(data)"
   ]
  },
  {
   "cell_type": "code",
   "execution_count": 20,
   "metadata": {},
   "outputs": [
    {
     "name": "stdout",
     "output_type": "stream",
     "text": [
      "\n",
      "Predictions:\n",
      "0.1 + 0.2 = 0.3085712790489197\n",
      "0.2 + 0.2 = 0.40262073278427124\n"
     ]
    }
   ],
   "source": [
    "  # print predictions\n",
    "    print(\"\\nPredictions:\")\n",
    "    for d, p in zip(data, predictions):\n",
    "        print(\"{} + {} = {}\".format(d[0], d[1], p[0]))"
   ]
  }
 ],
 "metadata": {
  "anaconda-cloud": {},
  "kernelspec": {
   "display_name": "Python 3",
   "language": "python",
   "name": "python3"
  },
  "language_info": {
   "codemirror_mode": {
    "name": "ipython",
    "version": 3
   },
   "file_extension": ".py",
   "mimetype": "text/x-python",
   "name": "python",
   "nbconvert_exporter": "python",
   "pygments_lexer": "ipython3",
   "version": "3.6.9"
  }
 },
 "nbformat": 4,
 "nbformat_minor": 4
}
