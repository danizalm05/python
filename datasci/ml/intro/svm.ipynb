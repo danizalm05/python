{
 "cells": [
  {
   "cell_type": "markdown",
   "metadata": {},
   "source": [
    " https://techwithtim.net/tutorials/machine-learning-python/svm-1/\n",
    "\n",
    "<b>Support Vector Machines (SVM)</b>\n",
    "\n",
    "\n",
    "SVM's are  similar to   K Nearest Neighbors. \n",
    "used to classify data that does not have a linear correspondence.\n",
    "\n",
    "Scikit-learn = machine learning library,features various classification, regression and \n",
    " clustering algorithms  "
   ]
  },
  {
   "cell_type": "code",
   "execution_count": 1,
   "metadata": {},
   "outputs": [],
   "source": [
    "import sklearn\n",
    "from sklearn import svm\n",
    "from sklearn import datasets"
   ]
  },
  {
   "cell_type": "code",
   "execution_count": 2,
   "metadata": {},
   "outputs": [],
   "source": [
    "# scikit-learn comes with a few small standard datasets that do not\n",
    "# require to download any file from some external website.\n",
    "cancer = datasets.load_breast_cancer()"
   ]
  },
  {
   "cell_type": "code",
   "execution_count": 3,
   "metadata": {},
   "outputs": [
    {
     "name": "stdout",
     "output_type": "stream",
     "text": [
      "\n",
      "\n",
      "Features: \n",
      " ['mean radius' 'mean texture' 'mean perimeter' 'mean area'\n",
      " 'mean smoothness' 'mean compactness' 'mean concavity'\n",
      " 'mean concave points' 'mean symmetry' 'mean fractal dimension'\n",
      " 'radius error' 'texture error' 'perimeter error' 'area error'\n",
      " 'smoothness error' 'compactness error' 'concavity error'\n",
      " 'concave points error' 'symmetry error' 'fractal dimension error'\n",
      " 'worst radius' 'worst texture' 'worst perimeter' 'worst area'\n",
      " 'worst smoothness' 'worst compactness' 'worst concavity'\n",
      " 'worst concave points' 'worst symmetry' 'worst fractal dimension']\n"
     ]
    }
   ],
   "source": [
    "print(\"\\n\\nFeatures: \\n\", cancer.feature_names)#list of features in the data set"
   ]
  },
  {
   "cell_type": "code",
   "execution_count": 4,
   "metadata": {},
   "outputs": [
    {
     "name": "stdout",
     "output_type": "stream",
     "text": [
      "Labels:  ['malignant' 'benign']\n"
     ]
    }
   ],
   "source": [
    "print(\"Labels: \", cancer.target_names)#list of label"
   ]
  },
  {
   "cell_type": "code",
   "execution_count": 5,
   "metadata": {},
   "outputs": [
    {
     "name": "stdout",
     "output_type": "stream",
     "text": [
      "[1.799e+01 1.038e+01 1.228e+02 1.001e+03 1.184e-01 2.776e-01 3.001e-01\n",
      " 1.471e-01 2.419e-01 7.871e-02 1.095e+00 9.053e-01 8.589e+00 1.534e+02\n",
      " 6.399e-03 4.904e-02 5.373e-02 1.587e-02 3.003e-02 6.193e-03 2.538e+01\n",
      " 1.733e+01 1.846e+02 2.019e+03 1.622e-01 6.656e-01 7.119e-01 2.654e-01\n",
      " 4.601e-01 1.189e-01]   =>  0\n",
      "[1.866e+01 1.712e+01 1.214e+02 1.077e+03 1.054e-01 1.100e-01 1.457e-01\n",
      " 8.665e-02 1.966e-01 6.213e-02 7.128e-01 1.581e+00 4.895e+00 9.047e+01\n",
      " 8.102e-03 2.101e-02 3.342e-02 1.601e-02 2.045e-02 4.570e-03 2.225e+01\n",
      " 2.490e+01 1.454e+02 1.549e+03 1.503e-01 2.291e-01 3.272e-01 1.674e-01\n",
      " 2.894e-01 8.456e-02]   =>  0\n"
     ]
    }
   ],
   "source": [
    "x = cancer.data  # All of the features\n",
    "y = cancer.target  # All of the labels\n",
    "\n",
    "print(x[0],'  => ' ,y[0])\n",
    "print(x[121],'  => ' ,y[121])\n",
    " "
   ]
  },
  {
   "cell_type": "markdown",
   "metadata": {},
   "source": [
    "<b>Splitting Data</b>"
   ]
  },
  {
   "cell_type": "code",
   "execution_count": 6,
   "metadata": {},
   "outputs": [
    {
     "name": "stdout",
     "output_type": "stream",
     "text": [
      "x_train\n",
      " [[1.390e+01 1.924e+01 8.873e+01 6.029e+02 7.991e-02 5.326e-02 2.995e-02\n",
      "  2.070e-02 1.579e-01 5.594e-02 3.316e-01 9.264e-01 2.056e+00 2.841e+01\n",
      "  3.704e-03 1.082e-02 1.530e-02 6.275e-03 1.062e-02 2.217e-03 1.641e+01\n",
      "  2.642e+01 1.044e+02 8.305e+02 1.064e-01 1.415e-01 1.673e-01 8.150e-02\n",
      "  2.356e-01 7.603e-02]\n",
      " [9.904e+00 1.806e+01 6.460e+01 3.024e+02 9.699e-02 1.294e-01 1.307e-01\n",
      "  3.716e-02 1.669e-01 8.116e-02 4.311e-01 2.261e+00 3.132e+00 2.748e+01\n",
      "  1.286e-02 8.808e-02 1.197e-01 2.460e-02 3.880e-02 1.792e-02 1.126e+01\n",
      "  2.439e+01 7.307e+01 3.902e+02 1.301e-01 2.950e-01 3.486e-01 9.910e-02\n",
      "  2.614e-01 1.162e-01]\n",
      " [1.350e+01 1.271e+01 8.569e+01 5.662e+02 7.376e-02 3.614e-02 2.758e-03\n",
      "  4.419e-03 1.365e-01 5.335e-02 2.244e-01 6.864e-01 1.509e+00 2.039e+01\n",
      "  3.338e-03 3.746e-03 2.030e-03 3.242e-03 1.480e-02 1.566e-03 1.497e+01\n",
      "  1.694e+01 9.548e+01 6.987e+02 9.023e-02 5.836e-02 1.379e-02 2.210e-02\n",
      "  2.267e-01 6.192e-02]\n",
      " [1.189e+01 1.835e+01 7.732e+01 4.322e+02 9.363e-02 1.154e-01 6.636e-02\n",
      "  3.142e-02 1.967e-01 6.314e-02 2.963e-01 1.563e+00 2.087e+00 2.146e+01\n",
      "  8.872e-03 4.192e-02 5.946e-02 1.785e-02 2.793e-02 4.775e-03 1.325e+01\n",
      "  2.710e+01 8.620e+01 5.312e+02 1.405e-01 3.046e-01 2.806e-01 1.138e-01\n",
      "  3.397e-01 8.365e-02]\n",
      " [1.505e+01 1.907e+01 9.726e+01 7.019e+02 9.215e-02 8.597e-02 7.486e-02\n",
      "  4.335e-02 1.561e-01 5.915e-02 3.860e-01 1.198e+00 2.630e+00 3.849e+01\n",
      "  4.952e-03 1.630e-02 2.967e-02 9.423e-03 1.152e-02 1.718e-03 1.758e+01\n",
      "  2.806e+01 1.138e+02 9.670e+02 1.246e-01 2.101e-01 2.866e-01 1.120e-01\n",
      "  2.282e-01 6.954e-02]] \n",
      "\n",
      "y_train \n",
      "  [1 1 1 1 0]\n"
     ]
    }
   ],
   "source": [
    "x_train, x_test, y_train, y_test = sklearn.model_selection.train_test_split(x, y, test_size=0.2)\n",
    "#print the first few instances\n",
    "print('x_train\\n',x_train[:5],'\\n\\ny_train \\n ', y_train[:5])"
   ]
  },
  {
   "cell_type": "markdown",
   "metadata": {},
   "source": [
    "<b>What a SVM Does?</b>\n",
    "https://techwithtim.net/tutorials/machine-learning-python/svm-2/"
   ]
  },
  {
   "cell_type": "markdown",
   "metadata": {},
   "source": [
    "SVM  is a tool for classifying complicated data with a high degree of dimensions(features).  \n",
    "K-Nearest Neighbors does not perform well on high-dimensional data."
   ]
  },
  {
   "cell_type": "markdown",
   "metadata": {},
   "source": [
    "<b>Implementing a SVM </b>\n",
    "\n",
    "https://techwithtim.net/tutorials/machine-learning-python/svm-p-3-implementation/"
   ]
  },
  {
   "cell_type": "code",
   "execution_count": 7,
   "metadata": {},
   "outputs": [],
   "source": [
    "from sklearn import svm\n",
    " \n",
    "clf = svm.SVC() #create a new model\n"
   ]
  },
  {
   "cell_type": "code",
   "execution_count": 8,
   "metadata": {},
   "outputs": [
    {
     "name": "stderr",
     "output_type": "stream",
     "text": [
      "C:\\Users\\rockman\\Anaconda3\\lib\\site-packages\\sklearn\\svm\\base.py:193: FutureWarning: The default value of gamma will change from 'auto' to 'scale' in version 0.22 to account better for unscaled features. Set gamma explicitly to 'auto' or 'scale' to avoid this warning.\n",
      "  \"avoid this warning.\", FutureWarning)\n"
     ]
    },
    {
     "data": {
      "text/plain": [
       "SVC(C=1.0, cache_size=200, class_weight=None, coef0=0.0,\n",
       "    decision_function_shape='ovr', degree=3, gamma='auto_deprecated',\n",
       "    kernel='rbf', max_iter=-1, probability=False, random_state=None,\n",
       "    shrinking=True, tol=0.001, verbose=False)"
      ]
     },
     "execution_count": 8,
     "metadata": {},
     "output_type": "execute_result"
    }
   ],
   "source": [
    "clf.fit(x_train, y_train)"
   ]
  },
  {
   "cell_type": "markdown",
   "metadata": {},
   "source": [
    "To score our data we will use a useful tool from the sklearn module."
   ]
  },
  {
   "cell_type": "code",
   "execution_count": 9,
   "metadata": {},
   "outputs": [
    {
     "data": {
      "text/plain": [
       "0.5"
      ]
     },
     "execution_count": 9,
     "metadata": {},
     "output_type": "execute_result"
    }
   ],
   "source": [
    "from sklearn import metrics\n",
    "\n",
    "y_pred = clf.predict(x_test) # Predict values for our test data\n",
    "acc = metrics.accuracy_score(y_test, y_pred) # Test them against our correct values\n",
    "acc"
   ]
  },
  {
   "cell_type": "markdown",
   "metadata": {},
   "source": [
    " Our accuracy is close to 60% and that is horrible! \n",
    " Looks like we need to add something else."
   ]
  },
  {
   "cell_type": "markdown",
   "metadata": {},
   "source": [
    "<b> Adding a Kernel</b>\n",
    "\n",
    "The reason we received such a low accuracy score was we forgot to add a kernel! We need to specify which kernel we should use to increase our accuracy.\n",
    "\n",
    "Kernel Options:\n",
    "- linear\n",
    "- poly\n",
    "- rbf\n",
    "- sigmoid\n",
    "- precomputed\n",
    "\n",
    "We will use linear for this data-set."
   ]
  },
  {
   "cell_type": "code",
   "execution_count": 10,
   "metadata": {},
   "outputs": [],
   "source": [
    "clf = svm.SVC(kernel=\"linear\")"
   ]
  },
  {
   "cell_type": "code",
   "execution_count": 11,
   "metadata": {},
   "outputs": [
    {
     "data": {
      "text/plain": [
       "SVC(C=1.0, cache_size=200, class_weight=None, coef0=0.0,\n",
       "    decision_function_shape='ovr', degree=3, gamma='auto_deprecated',\n",
       "    kernel='linear', max_iter=-1, probability=False, random_state=None,\n",
       "    shrinking=True, tol=0.001, verbose=False)"
      ]
     },
     "execution_count": 11,
     "metadata": {},
     "output_type": "execute_result"
    }
   ],
   "source": [
    "clf.fit(x_train, y_train)"
   ]
  },
  {
   "cell_type": "code",
   "execution_count": 12,
   "metadata": {},
   "outputs": [
    {
     "data": {
      "text/plain": [
       "0.9649122807017544"
      ]
     },
     "execution_count": 12,
     "metadata": {},
     "output_type": "execute_result"
    }
   ],
   "source": [
    "y_pred = clf.predict(x_test) # Predict values for our test data\n",
    "\n",
    "acc = metrics.accuracy_score(y_test, y_pred) # Test them against our correct values\n",
    "acc"
   ]
  },
  {
   "cell_type": "markdown",
   "metadata": {},
   "source": [
    "<b>Comparing to KNearestNeighbors</b>\n",
    "\n",
    "If we want to see how this algorithm runs in comparison to KNN we can run the KNN classifier on this data-set and compare our accuracy values."
   ]
  },
  {
   "cell_type": "code",
   "execution_count": 15,
   "metadata": {},
   "outputs": [],
   "source": [
    "from sklearn.neighbors import KNeighborsClassifier\n",
    "clf = KNeighborsClassifier(n_neighbors=11)\n",
    " "
   ]
  },
  {
   "cell_type": "code",
   "execution_count": 16,
   "metadata": {},
   "outputs": [
    {
     "data": {
      "text/plain": [
       "KNeighborsClassifier(algorithm='auto', leaf_size=30, metric='minkowski',\n",
       "                     metric_params=None, n_jobs=None, n_neighbors=11, p=2,\n",
       "                     weights='uniform')"
      ]
     },
     "execution_count": 16,
     "metadata": {},
     "output_type": "execute_result"
    }
   ],
   "source": [
    "clf.fit(x_train, y_train)"
   ]
  },
  {
   "cell_type": "code",
   "execution_count": 17,
   "metadata": {},
   "outputs": [
    {
     "data": {
      "text/plain": [
       "0.9298245614035088"
      ]
     },
     "execution_count": 17,
     "metadata": {},
     "output_type": "execute_result"
    }
   ],
   "source": [
    "y_pred = clf.predict(x_test) # Predict values for our test data\n",
    "\n",
    "acc = metrics.accuracy_score(y_test, y_pred) # Test them against our correct values\n",
    "acc"
   ]
  },
  {
   "cell_type": "markdown",
   "metadata": {},
   "source": [
    "Note that KNN still does well on this data set but hovers around the 90% mark."
   ]
  }
 ],
 "metadata": {
  "kernelspec": {
   "display_name": "Python 3",
   "language": "python",
   "name": "python3"
  },
  "language_info": {
   "codemirror_mode": {
    "name": "ipython",
    "version": 3
   },
   "file_extension": ".py",
   "mimetype": "text/x-python",
   "name": "python",
   "nbconvert_exporter": "python",
   "pygments_lexer": "ipython3",
   "version": "3.6.4"
  }
 },
 "nbformat": 4,
 "nbformat_minor": 2
}
